{
  "nbformat": 4,
  "nbformat_minor": 0,
  "metadata": {
    "colab": {
      "name": "“for_loop.ipynb”的副本",
      "version": "0.3.2",
      "provenance": [],
      "include_colab_link": true
    },
    "kernelspec": {
      "name": "python3",
      "display_name": "Python 3"
    }
  },
  "cells": [
    {
      "cell_type": "markdown",
      "metadata": {
        "id": "view-in-github",
        "colab_type": "text"
      },
      "source": [
        "<a href=\"https://colab.research.google.com/github/batista0428/python/blob/master/%E2%80%9Cfor_loop_ipynb%E2%80%9D%E7%9A%84%E5%89%AF%E6%9C%AC.ipynb\" target=\"_parent\"><img src=\"https://colab.research.google.com/assets/colab-badge.svg\" alt=\"Open In Colab\"/></a>"
      ]
    },
    {
      "cell_type": "code",
      "metadata": {
        "id": "JrI6BNEofJn0",
        "colab_type": "code",
        "outputId": "8c79f3da-51b5-4373-f5af-d9221d033a67",
        "colab": {
          "base_uri": "https://localhost:8080/",
          "height": 72
        }
      },
      "source": [
        "# 1+2+3+....+100==>range(101)\n",
        "sum = 0\n",
        "x = 0\n",
        "for x in range(101):\n",
        "  sum += x\n",
        "\n",
        "print(sum)\n",
        "# 1+3+5+....+101==>range(1,102,2)\n",
        "sum = 0\n",
        "x = 0\n",
        "for x in range(1,102,2):\n",
        "  sum += x\n",
        "\n",
        "print(sum)\n",
        "# 2+4+6+....+100==>range(2,101,2)\n",
        "sum = 0\n",
        "x = 0\n",
        "for x in range(2,101,2):\n",
        "  sum += x\n",
        "\n",
        "print(sum)\n"
      ],
      "execution_count": 1,
      "outputs": [
        {
          "output_type": "stream",
          "text": [
            "5050\n",
            "2601\n",
            "2550\n"
          ],
          "name": "stdout"
        }
      ]
    },
    {
      "cell_type": "code",
      "metadata": {
        "id": "nx8Hx0NlsEh-",
        "colab_type": "code",
        "colab": {}
      },
      "source": [
        ""
      ],
      "execution_count": 0,
      "outputs": []
    }
  ]
}