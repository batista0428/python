{
  "nbformat": 4,
  "nbformat_minor": 0,
  "metadata": {
    "colab": {
      "name": "for_loop.ipynb",
      "version": "0.3.2",
      "provenance": [],
      "include_colab_link": true
    },
    "kernelspec": {
      "name": "python3",
      "display_name": "Python 3"
    }
  },
  "cells": [
    {
      "cell_type": "markdown",
      "metadata": {
        "id": "view-in-github",
        "colab_type": "text"
      },
      "source": [
        "<a href=\"https://colab.research.google.com/github/batista0428/python/blob/master/for_loop.ipynb\" target=\"_parent\"><img src=\"https://colab.research.google.com/assets/colab-badge.svg\" alt=\"Open In Colab\"/></a>"
      ]
    },
    {
      "cell_type": "code",
      "metadata": {
        "id": "JrI6BNEofJn0",
        "colab_type": "code",
        "outputId": "b6ae065c-e151-4090-93cc-ed3e072fa786",
        "colab": {
          "base_uri": "https://localhost:8080/",
          "height": 72
        }
      },
      "source": [
        "# 1+2+3+....+100==>range(101)\n",
        "sum = 0\n",
        "x = 0\n",
        "for x in range(101):\n",
        "  sum += x\n",
        "\n",
        "print(sum)\n",
        "# 1+3+5+....+101==>range(1,102,2)\n",
        "sum = 0\n",
        "x = 0\n",
        "for x in range(1,102,2):\n",
        "  sum += x\n",
        "\n",
        "print(sum)\n",
        "# 2+4+6+....+100==>range(2,101,2)\n",
        "sum = 0\n",
        "x = 0\n",
        "for x in range(2,101,2):\n",
        "  sum += x\n",
        "\n",
        "print(sum)"
      ],
      "execution_count": 12,
      "outputs": [
        {
          "output_type": "stream",
          "text": [
            "5050\n",
            "2601\n",
            "2550\n"
          ],
          "name": "stdout"
        }
      ]
    }
  ]
}