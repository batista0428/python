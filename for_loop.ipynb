{
  "nbformat": 4,
  "nbformat_minor": 0,
  "metadata": {
    "colab": {
      "name": "for_loop.ipynb",
      "version": "0.3.2",
      "provenance": [],
      "include_colab_link": true
    },
    "kernelspec": {
      "name": "python3",
      "display_name": "Python 3"
    }
  },
  "cells": [
    {
      "cell_type": "markdown",
      "metadata": {
        "id": "view-in-github",
        "colab_type": "text"
      },
      "source": [
        "<a href=\"https://colab.research.google.com/github/batista0428/python/blob/master/for_loop.ipynb\" target=\"_parent\"><img src=\"https://colab.research.google.com/assets/colab-badge.svg\" alt=\"Open In Colab\"/></a>"
      ]
    },
    {
      "cell_type": "code",
      "metadata": {
        "id": "JrI6BNEofJn0",
        "colab_type": "code",
        "outputId": "2d5b0c66-aab8-492d-e42c-6550e6f99592",
        "colab": {
          "base_uri": "https://localhost:8080/",
          "height": 35
        }
      },
      "source": [
        "sum =0\n",
        "\n",
        "# 1+2+3+....+100==>range(101)\n",
        "# 1+3+5+....+101==>range(1,102,2)\n",
        "# 2+4+6+....+100==>range(2,101,2)\n",
        "\n",
        "for x in range(2,101,2):\n",
        "  sum += x\n",
        "\n",
        "print(sum)"
      ],
      "execution_count": 0,
      "outputs": [
        {
          "output_type": "stream",
          "text": [
            "2550\n"
          ],
          "name": "stdout"
        }
      ]
    }
  ]
}